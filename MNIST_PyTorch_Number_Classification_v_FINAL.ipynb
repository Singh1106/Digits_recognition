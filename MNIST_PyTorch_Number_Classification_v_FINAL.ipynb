{
  "nbformat": 4,
  "nbformat_minor": 0,
  "metadata": {
    "colab": {
      "name": "MNIST PyTorch Number Classification v_FINAL.ipynb",
      "provenance": [],
      "collapsed_sections": []
    },
    "kernelspec": {
      "name": "python3",
      "display_name": "Python 3"
    }
  },
  "cells": [
    {
      "cell_type": "code",
      "metadata": {
        "id": "MfvPd3OzDHk3",
        "colab_type": "code",
        "colab": {}
      },
      "source": [
        "import torch\n",
        "from torch import nn,optim\n",
        "import torch.nn.functional as F\n",
        "import torchvision\n",
        "import numpy as np\n",
        "import matplotlib.pyplot as plt\n",
        "import seaborn as sns\n",
        "import pandas as pd"
      ],
      "execution_count": 0,
      "outputs": []
    },
    {
      "cell_type": "code",
      "metadata": {
        "id": "uF75WR7hDYXM",
        "colab_type": "code",
        "colab": {}
      },
      "source": [
        "train_loader = torch.utils.data.DataLoader(\n",
        "  torchvision.datasets.MNIST('/files/', train=True, download=True,\n",
        "                             transform=torchvision.transforms.Compose([\n",
        "                               torchvision.transforms.ToTensor(),\n",
        "                               torchvision.transforms.Normalize(\n",
        "                                 (0.1307,), (0.3081,))\n",
        "                             ])),\n",
        "  batch_size=32, shuffle=True)\n",
        "\n",
        "test_loader = torch.utils.data.DataLoader(\n",
        "  torchvision.datasets.MNIST('/files/', train=False, download=True,\n",
        "                             transform=torchvision.transforms.Compose([\n",
        "                               torchvision.transforms.ToTensor(),\n",
        "                               torchvision.transforms.Normalize(\n",
        "                                 (0.1307,), (0.3081,))\n",
        "                             ])),\n",
        "  batch_size=1000, shuffle=True)"
      ],
      "execution_count": 0,
      "outputs": []
    },
    {
      "cell_type": "code",
      "metadata": {
        "id": "HzZhgamfd2o-",
        "colab_type": "code",
        "colab": {}
      },
      "source": [
        "class Everything(nn.Module):\n",
        "  def __init__(self):\n",
        "    super(Everything, self).__init__()\n",
        "    self.hidden1=nn.Linear(784,128)\n",
        "    self.hidden2=nn.Linear(128,64)\n",
        "    self.output=nn.Linear(64,10)\n",
        "  def forward(self,x):\n",
        "    x=torch.tanh(self.hidden1(x))\n",
        "    x=torch.tanh(self.hidden2(x))\n",
        "    x=F.log_softmax(self.output(x),dim=1)\n",
        "    #x=self.output(x)\n",
        "    return x"
      ],
      "execution_count": 0,
      "outputs": []
    },
    {
      "cell_type": "code",
      "metadata": {
        "id": "vnkn9n36BKcx",
        "colab_type": "code",
        "outputId": "4c85f044-ca25-4169-add4-4ebaaa623791",
        "colab": {
          "base_uri": "https://localhost:8080/",
          "height": 101
        }
      },
      "source": [
        "epochs=5\n",
        "model=Everything()\n",
        "optimizer=optim.SGD(model.parameters(),lr=0.1)\n",
        "criterion=nn.NLLLoss()\n",
        "for i in range(epochs):\n",
        "  training_loss=0\n",
        "  for images,labels in train_loader:\n",
        "    #print(images.shape)\n",
        "    train_examples_data1=images.view(32,784)\n",
        "    \n",
        "    optimizer.zero_grad()\n",
        "\n",
        "    logProbs=model(train_examples_data1)\n",
        "\n",
        "    loss=criterion(logProbs,labels)\n",
        "\n",
        "    training_loss+=loss\n",
        "\n",
        "    loss.backward()\n",
        "    \n",
        "    optimizer.step()\n",
        "  print(training_loss)"
      ],
      "execution_count": 6,
      "outputs": [
        {
          "output_type": "stream",
          "text": [
            "tensor(465.9428, grad_fn=<AddBackward0>)\n",
            "tensor(194.7387, grad_fn=<AddBackward0>)\n",
            "tensor(133.9979, grad_fn=<AddBackward0>)\n",
            "tensor(95.8441, grad_fn=<AddBackward0>)\n",
            "tensor(68.8063, grad_fn=<AddBackward0>)\n"
          ],
          "name": "stdout"
        }
      ]
    },
    {
      "cell_type": "code",
      "metadata": {
        "id": "Bk0yiccVBOr9",
        "colab_type": "code",
        "colab": {}
      },
      "source": [
        "test_examples=enumerate(test_loader)\n",
        "batch_idx,(test_examples_data,test_examples_targets)=next(test_examples)\n",
        "test_examples_data1=test_examples_data.view(1000,1,784)"
      ],
      "execution_count": 0,
      "outputs": []
    },
    {
      "cell_type": "code",
      "metadata": {
        "id": "T8JkRo4RBSZh",
        "colab_type": "code",
        "colab": {}
      },
      "source": [
        "def PrintProbOutput(data):\n",
        "  data=data.detach().numpy()\n",
        "  x=torch.Tensor(range(0,10))\n",
        "  print (data)\n",
        "  print (x)\n",
        "  #plt.bar(x.view(1,10),Probs)\n",
        "  #sns.distplot(a=Probs,hist=True)\n",
        "  plt.scatter(x.view(1,10),data)\n",
        "  plt.ylim(0,1)\n",
        "  plt.show"
      ],
      "execution_count": 0,
      "outputs": []
    },
    {
      "cell_type": "code",
      "metadata": {
        "id": "tJgRxGQOBWIO",
        "colab_type": "code",
        "outputId": "f2c1f007-de65-4f33-8e22-92fda1788eb9",
        "colab": {
          "base_uri": "https://localhost:8080/",
          "height": 298
        }
      },
      "source": [
        "number=443\n",
        "plt.imshow(test_examples_data[number][0])\n",
        "plt.title(test_examples_targets[number])"
      ],
      "execution_count": 36,
      "outputs": [
        {
          "output_type": "execute_result",
          "data": {
            "text/plain": [
              "Text(0.5, 1.0, 'tensor(2)')"
            ]
          },
          "metadata": {
            "tags": []
          },
          "execution_count": 36
        },
        {
          "output_type": "display_data",
          "data": {
            "image/png": "[encoded data removed]",
            "text/plain": [
              "<Figure size 432x288 with 1 Axes>"
            ]
          },
          "metadata": {
            "tags": [],
            "needs_background": "light"
          }
        }
      ]
    },
    {
      "cell_type": "code",
      "metadata": {
        "id": "VIYAQKRYBYP3",
        "colab_type": "code",
        "outputId": "8e6e2913-e677-4691-b3c8-e4088ee234fb",
        "colab": {
          "base_uri": "https://localhost:8080/",
          "height": 319
        }
      },
      "source": [
        "with torch.no_grad():\n",
        "  output=model(test_examples_data1[number])\n",
        "  output=F.softmax(output,dim=1)\n",
        "PrintProbOutput(output)"
      ],
      "execution_count": 37,
      "outputs": [
        {
          "output_type": "stream",
          "text": [
            "[[1.4775200e-03 1.1438439e-06 7.2821307e-01 1.0792210e-04 1.4750504e-05\n",
            "  5.5783625e-05 6.6492520e-04 3.1124867e-07 2.6941317e-01 5.1357703e-05]]\n",
            "tensor([0., 1., 2., 3., 4., 5., 6., 7., 8., 9.])\n"
          ],
          "name": "stdout"
        },
        {
          "output_type": "display_data",
          "data": {
            "image/png": "[encoded data removed]",
            "text/plain": [
              "<Figure size 432x288 with 1 Axes>"
            ]
          },
          "metadata": {
            "tags": [],
            "needs_background": "light"
          }
        }
      ]
    },
    {
      "cell_type": "code",
      "metadata": {
        "id": "XE-FOv_LBjWs",
        "colab_type": "code",
        "colab": {}
      },
      "source": [
        "def CalculatedOutput(output):\n",
        "  highest=-1\n",
        "  rank=-1\n",
        "  for i in range(len(output[0])):\n",
        "    if output[0][i]>highest:\n",
        "      highest=output[0][i]\n",
        "      rank=i\n",
        "  return np.array([rank])\n",
        "def Accuracy():\n",
        "  calc_output=np.array([])\n",
        "  for i in test_examples_data1:\n",
        "    with torch.no_grad():\n",
        "      output1=model(i)\n",
        "      output1=F.softmax(output1,dim=1)\n",
        "    #print(CalculatedOutput(output1))\n",
        "    calc_output=np.append(calc_output,CalculatedOutput(output1))\n",
        "  exp_output=test_examples_targets.numpy() #Converts into an numpy array\n",
        "  correct=0\n",
        "  for i in range(len(calc_output)):\n",
        "    if calc_output[i]==exp_output[i]:\n",
        "      correct+=1\n",
        "  accuracy=(correct/1000)*100\n",
        "  return accuracy"
      ],
      "execution_count": 0,
      "outputs": []
    },
    {
      "cell_type": "code",
      "metadata": {
        "id": "gxuAaH-PbyrG",
        "colab_type": "code",
        "colab": {
          "base_uri": "https://localhost:8080/",
          "height": 34
        },
        "outputId": "efa65e9b-d99f-4e4d-86f3-e9ddb921603c"
      },
      "source": [
        "Accuracy()"
      ],
      "execution_count": 101,
      "outputs": [
        {
          "output_type": "execute_result",
          "data": {
            "text/plain": [
              "96.89999999999999"
            ]
          },
          "metadata": {
            "tags": []
          },
          "execution_count": 101
        }
      ]
    },
    {
      "cell_type": "code",
      "metadata": {
        "id": "kJH8t7mjdefC",
        "colab_type": "code",
        "colab": {}
      },
      "source": [
        ""
      ],
      "execution_count": 0,
      "outputs": []
    }
  ]
}